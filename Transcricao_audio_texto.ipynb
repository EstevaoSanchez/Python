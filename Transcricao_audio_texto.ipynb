{
  "nbformat": 4,
  "nbformat_minor": 0,
  "metadata": {
    "colab": {
      "name": "Transcricao_audio_texto.ipynb",
      "provenance": []
    },
    "kernelspec": {
      "name": "python3",
      "display_name": "Python 3"
    },
    "language_info": {
      "name": "python"
    }
  },
  "cells": [
    {
      "cell_type": "code",
      "source": [
        "!pip3 install SpeechRecognition pydub"
      ],
      "metadata": {
        "colab": {
          "base_uri": "https://localhost:8080/"
        },
        "id": "54kEXXOGEJ9e",
        "outputId": "0aafb35b-8964-443a-969f-30bdaf212d31"
      },
      "execution_count": 4,
      "outputs": [
        {
          "output_type": "stream",
          "name": "stdout",
          "text": [
            "Looking in indexes: https://pypi.org/simple, https://us-python.pkg.dev/colab-wheels/public/simple/\n",
            "Collecting SpeechRecognition\n",
            "  Downloading SpeechRecognition-3.8.1-py2.py3-none-any.whl (32.8 MB)\n",
            "\u001b[K     |████████████████████████████████| 32.8 MB 144 kB/s \n",
            "\u001b[?25hCollecting pydub\n",
            "  Downloading pydub-0.25.1-py2.py3-none-any.whl (32 kB)\n",
            "Installing collected packages: SpeechRecognition, pydub\n",
            "Successfully installed SpeechRecognition-3.8.1 pydub-0.25.1\n"
          ]
        }
      ]
    },
    {
      "cell_type": "code",
      "execution_count": 17,
      "metadata": {
        "id": "wlfk0JUXD87m"
      },
      "outputs": [],
      "source": [
        "import speech_recognition as sr \n",
        "import os\n",
        "from pydub import AudioSegment\n",
        "from pydub.silence import split_on_silence\n",
        "import wave"
      ]
    },
    {
      "cell_type": "code",
      "source": [
        "# Criando um objeto speech recognition\n",
        "\n",
        "r=sr.Recognizer()"
      ],
      "metadata": {
        "id": "VHgH58mGEDrE"
      },
      "execution_count": 18,
      "outputs": []
    },
    {
      "cell_type": "code",
      "source": [
        "path = 'TesteSafra.wav'"
      ],
      "metadata": {
        "id": "GDf1o3mqEac1"
      },
      "execution_count": 19,
      "outputs": []
    },
    {
      "cell_type": "code",
      "source": [
        "sound = AudioSegment.from_wav(path)"
      ],
      "metadata": {
        "id": "r-4SBereEoCP"
      },
      "execution_count": 20,
      "outputs": []
    },
    {
      "cell_type": "code",
      "source": [
        "chunks = split_on_silence(sound,\n",
        "        min_silence_len = 500,\n",
        "        # ajustar de acordo com a necessidade\n",
        "        silence_thresh = sound.dBFS-14,\n",
        "        # Define o silêncio com tamanho de 500 milisegundos\n",
        "        keep_silence=500,)"
      ],
      "metadata": {
        "id": "HsXhSRxrErc8"
      },
      "execution_count": 21,
      "outputs": []
    },
    {
      "cell_type": "code",
      "source": [
        "pasta_audios = \"audio-chunks\"\n",
        "\n",
        "# criar um diretório para armazer as partes do audio\n",
        "\n",
        "if not os.path.isdir(pasta_audios):\n",
        "       os.mkdir(pasta_audios)"
      ],
      "metadata": {
        "id": "Ah6bcwKOE0g0"
      },
      "execution_count": 22,
      "outputs": []
    },
    {
      "cell_type": "code",
      "source": [
        "whole_text = \"\""
      ],
      "metadata": {
        "id": "58iA40bdE7qW"
      },
      "execution_count": 23,
      "outputs": []
    },
    {
      "cell_type": "code",
      "source": [
        "for i, audio_chunk in enumerate(chunks, start=1):\n",
        "        # Exporta as partes do áudio, enumera e salva no diretório pasta_audios\n",
        "        chunk_filename = os.path.join(pasta_audios, f\"chunk{i}.wav\")\n",
        "        audio_chunk.export(chunk_filename, format=\"wav\")\n",
        "        with sr.AudioFile(chunk_filename) as source:\n",
        "          audio_listened = r.record(source)"
      ],
      "metadata": {
        "id": "D1gkEbLbFCWB"
      },
      "execution_count": 24,
      "outputs": []
    },
    {
      "cell_type": "code",
      "source": [
        "r.recognize_google(audio_listened, language=\"pt-BR\")"
      ],
      "metadata": {
        "colab": {
          "base_uri": "https://localhost:8080/",
          "height": 35
        },
        "id": "HtXLnal6FVr2",
        "outputId": "f6dd5b9b-760e-4661-cb36-6a859d1a2fcf"
      },
      "execution_count": 25,
      "outputs": [
        {
          "output_type": "execute_result",
          "data": {
            "text/plain": [
              "'então Fiquem todos com Deus e até o próximo vídeo'"
            ],
            "application/vnd.google.colaboratory.intrinsic+json": {
              "type": "string"
            }
          },
          "metadata": {},
          "execution_count": 25
        }
      ]
    },
    {
      "cell_type": "code",
      "source": [
        "# Função que divide os áudios em pedaços e usa o speech recognition\n",
        "def get_large_audio_transcription(path = 'Untitled.wav',lang = 'pt-Br'):\n",
        "    # Abre o arquivo de áudio usando o pydub\n",
        "    sound = AudioSegment.from_wav(path) \n",
        "    # Divide o arquivo quando há 500 milisegundos ou mais de silêncio\n",
        "    chunks = split_on_silence(sound,\n",
        "        min_silence_len = 500,\n",
        "        # ajustar de acordo com a necessidade\n",
        "        silence_thresh = sound.dBFS-14,\n",
        "        # Define o silêncio com tamanho de 500 milisegundos\n",
        "        keep_silence=500,)\n",
        "    pasta_audios = \"audio-chunks\"\n",
        "    # criar um diretório para armazer as partes do audio\n",
        "    if not os.path.isdir(pasta_audios):\n",
        "        os.mkdir(pasta_audios)\n",
        "    whole_text = \"\"\n",
        "    # Processamento de cada parte do áudio \n",
        "    for i, audio_chunk in enumerate(chunks, start=1):\n",
        "        # Exporta as partes do áudio, enumera e salva no diretório pasta_audios\n",
        "        chunk_filename = os.path.join(pasta_audios, f\"chunk{i}.wav\")\n",
        "        audio_chunk.export(chunk_filename, format=\"wav\")\n",
        "        # Faz a verificação das partes\n",
        "        with sr.AudioFile(chunk_filename) as source:\n",
        "            audio_listened = r.record(source)\n",
        "            # Tenta converter para texto\n",
        "            try:\n",
        "                text = r.recognize_google(audio_listened, language=lang)\n",
        "            except sr.UnknownValueError as erro:\n",
        "                print(\"Error:\", str(erro))\n",
        "            else:\n",
        "                text = f\"{text.capitalize()}. \"\n",
        "                print(chunk_filename, \":\", text)\n",
        "                whole_text += text\n",
        "    return whole_text"
      ],
      "metadata": {
        "id": "rsrnnI4yFbYN"
      },
      "execution_count": 26,
      "outputs": []
    },
    {
      "cell_type": "code",
      "source": [
        "get_large_audio_transcription(path = 'TesteSafra.wav',lang = 'pt-Br')"
      ],
      "metadata": {
        "colab": {
          "base_uri": "https://localhost:8080/",
          "height": 594
        },
        "id": "-W7VpC6qFmlU",
        "outputId": "d6c3b12b-ffaf-468f-b43b-765a2f20a8f6"
      },
      "execution_count": 27,
      "outputs": [
        {
          "output_type": "stream",
          "name": "stdout",
          "text": [
            "audio-chunks/chunk1.wav : Salve salve galera do youtube. \n",
            "audio-chunks/chunk2.wav : Sejam bem-vindos a mais um vídeo desse canal. \n",
            "audio-chunks/chunk3.wav : O vídeo de hoje pessoas é só no banco safra hoje vamos falar sobre a conta de investimento do banco que assim como aconteceu com o banco pactual passou a ter uma conta com a gente completa e cheia de benefícios. \n",
            "audio-chunks/chunk4.wav : A conta do banco safra oferece muitos serviços como transferências pagamentos de contas é investimento além disso o banco oferece cartão de crédito empréstimo e cheque especial. \n",
            "audio-chunks/chunk5.wav : Pastor sua conta é só baixar o app de fazer o cadastro que por sinal é muito fácil na verdade é como se tivesse digitando no whatsapp muito legal ficou animado quero saber mais sobre essa conta então continua esse vídeo e saiba tudo sobre a conta do banco safra mas antes de continuar aproveite esse momento para curtir e compartilhar esse vídeo com seus amigos e se ainda não é inscrito por favor se inscreva para ajudar nossa comunidade a crescer e não deixe de ativar o sininho das notificações pois assim você será avisado quando tiver vídeo novo no canal então pessoas o sapo estava criando sua estratégia digital também para o segmento alta renda autran celular com digital no investimento é uma conta completa o objetivo desse momento é um piano base de clientes que valorizam modelo e preto do banco que é digital mas quanto dimento humano descendência com a plataforma de produtos de investimento de alta performance com todo respeito dos especial. \n",
            "audio-chunks/chunk6.wav : Sentimento o banco também atualizou o saque o ano que passou a se chamar aj0 e agora também passou a oferecer cartão de crédito empréstimo e muitos outros serviços. \n",
            "audio-chunks/chunk7.wav : A conta do banco safra oferece cartão de crédito e cheque especial mediante análise de crédito e o cartão é liberado de acordo com o perfil de cada cliente podendo ser visa internacional gold platinum infinite ou mastercard black a conta digital é super completa onde é possível também fazer investimento em poupança o que pode ser interessante pois essa opção não tem incidência de imposto de renda e tem resgate automático poupança plus do safra é vinculada a conta corrente com aplicação automática de saldo parado na. \n",
            "audio-chunks/chunk8.wav : A remuneração é mensal e o resgate automático sempre que a conta corrente precisar de cobertura para débito sax pagamento ou transferências já na abertura da conta já é possível escolher se vai querer cartão de crédito e cheque especial depois de preencher os dados principais de cadastro como renda mensal e patrimônio já aparece o modelo de cartão de acordo com o perfil do cliente bem como a anuidade que ele cobra lembrando gente que a conta é completa mas para ter direito a todos os serviços é preciso escolher um pacote e existe aí duas opções sendo eles o pacote digital 3 e o pacote essencial. \n",
            "audio-chunks/chunk9.wav : No pacote digital 3 o cliente tem direito a transferência para outros bancos e cia ilimitada transferência de contas safras também limitado transferência do banco safra na agência ou terminal de auto-atendimento tem direito a 6. \n",
            "audio-chunks/chunk10.wav : Confecção de cadastro é isento cartão de débito também é isento segunda via do cartão é isento também tem direito a 12 saques por mês extrato impresso contenda movimentação dos últimos 30 dias tem direito a quatro por mês. \n",
            "audio-chunks/chunk11.wav : O valor do pacote digital 13 é de r$ 39,90 por mês porém tensão de 12 meses ok. \n",
            "audio-chunks/chunk12.wav : Márcio cliente escolheu o pacote essencial ts. \n",
            "audio-chunks/chunk13.wav : Transferência para outros bancos. \n",
            "audio-chunks/chunk14.wav : O ted ou doc da mesma titularidade é ilimitado transferência entre contas safras ilimitado transferência do banco safra na agência o terminal de auto-atendimento tem direito a dois. \n",
            "audio-chunks/chunk15.wav : Confecção de cadastro exemplo cartão de débito é isento segunda via do cartão é isento tem direito a quatro saques por mês. \n",
            "audio-chunks/chunk16.wav : Tá gente então isso é um serviço aí né que você tem direito aí contratando o pacote é senso. \n",
            "audio-chunks/chunk17.wav : Esse serviço é gratuito. \n",
            "audio-chunks/chunk18.wav : Muito bom a gente se você ficou interessado em ter essa conta saiba que associação é muito. \n",
            "audio-chunks/chunk19.wav : Basta baixar o app do banco safra está disponível para ios e android e fazer o cadastro e realmente o cadastro super simples é como se tivesse digitando no whatsapp direto cadastro precisa enviar fotos de documentos então é bom que você já tenha em mãos. \n",
            "audio-chunks/chunk20.wav : Também precisa tirar selfie não precisa enviar comprovante de renda e nem de residência realmente é bem fácil fazer o. \n",
            "audio-chunks/chunk21.wav : No momento que fiz meu cadastro aparecer opção do cartão visa platinum e ele tem alguns benefícios interessante mas tem anuidade que custa aí né 8754 parça. \n",
            "audio-chunks/chunk22.wav : Samba no total de r$ 330 mas tem a possibilidade de 300 sem investir no mínimo r$ 150000 no. \n",
            "audio-chunks/chunk23.wav : Vem ver meu cadastro só aguardando a resposta mas já vi que consultaram meu cpf e a consulta foi feita no serasa vamos ver se vai aprovar um tipo de crédito para mim. \n",
            "audio-chunks/chunk24.wav : Então é isso gente aqui está mais uma opção de conta se você tiver interesse em experimentar essa conta é só baixar o aplicativo do banco safra e fazer o cadastro não esqueça de comentar sua experiência com esse banco aqui no vídeo então é isso gente agradece por ter esse vídeo até o final parece que por gentileza curtam compartilhe com seus amigos e se possível se inscreva em nosso canal. \n",
            "audio-chunks/chunk25.wav : Então fiquem todos com deus e até o próximo vídeo. \n"
          ]
        },
        {
          "output_type": "execute_result",
          "data": {
            "text/plain": [
              "'Salve salve galera do youtube. Sejam bem-vindos a mais um vídeo desse canal. O vídeo de hoje pessoas é só no banco safra hoje vamos falar sobre a conta de investimento do banco que assim como aconteceu com o banco pactual passou a ter uma conta com a gente completa e cheia de benefícios. A conta do banco safra oferece muitos serviços como transferências pagamentos de contas é investimento além disso o banco oferece cartão de crédito empréstimo e cheque especial. Pastor sua conta é só baixar o app de fazer o cadastro que por sinal é muito fácil na verdade é como se tivesse digitando no whatsapp muito legal ficou animado quero saber mais sobre essa conta então continua esse vídeo e saiba tudo sobre a conta do banco safra mas antes de continuar aproveite esse momento para curtir e compartilhar esse vídeo com seus amigos e se ainda não é inscrito por favor se inscreva para ajudar nossa comunidade a crescer e não deixe de ativar o sininho das notificações pois assim você será avisado quando tiver vídeo novo no canal então pessoas o sapo estava criando sua estratégia digital também para o segmento alta renda autran celular com digital no investimento é uma conta completa o objetivo desse momento é um piano base de clientes que valorizam modelo e preto do banco que é digital mas quanto dimento humano descendência com a plataforma de produtos de investimento de alta performance com todo respeito dos especial. Sentimento o banco também atualizou o saque o ano que passou a se chamar aj0 e agora também passou a oferecer cartão de crédito empréstimo e muitos outros serviços. A conta do banco safra oferece cartão de crédito e cheque especial mediante análise de crédito e o cartão é liberado de acordo com o perfil de cada cliente podendo ser visa internacional gold platinum infinite ou mastercard black a conta digital é super completa onde é possível também fazer investimento em poupança o que pode ser interessante pois essa opção não tem incidência de imposto de renda e tem resgate automático poupança plus do safra é vinculada a conta corrente com aplicação automática de saldo parado na. A remuneração é mensal e o resgate automático sempre que a conta corrente precisar de cobertura para débito sax pagamento ou transferências já na abertura da conta já é possível escolher se vai querer cartão de crédito e cheque especial depois de preencher os dados principais de cadastro como renda mensal e patrimônio já aparece o modelo de cartão de acordo com o perfil do cliente bem como a anuidade que ele cobra lembrando gente que a conta é completa mas para ter direito a todos os serviços é preciso escolher um pacote e existe aí duas opções sendo eles o pacote digital 3 e o pacote essencial. No pacote digital 3 o cliente tem direito a transferência para outros bancos e cia ilimitada transferência de contas safras também limitado transferência do banco safra na agência ou terminal de auto-atendimento tem direito a 6. Confecção de cadastro é isento cartão de débito também é isento segunda via do cartão é isento também tem direito a 12 saques por mês extrato impresso contenda movimentação dos últimos 30 dias tem direito a quatro por mês. O valor do pacote digital 13 é de r$ 39,90 por mês porém tensão de 12 meses ok. Márcio cliente escolheu o pacote essencial ts. Transferência para outros bancos. O ted ou doc da mesma titularidade é ilimitado transferência entre contas safras ilimitado transferência do banco safra na agência o terminal de auto-atendimento tem direito a dois. Confecção de cadastro exemplo cartão de débito é isento segunda via do cartão é isento tem direito a quatro saques por mês. Tá gente então isso é um serviço aí né que você tem direito aí contratando o pacote é senso. Esse serviço é gratuito. Muito bom a gente se você ficou interessado em ter essa conta saiba que associação é muito. Basta baixar o app do banco safra está disponível para ios e android e fazer o cadastro e realmente o cadastro super simples é como se tivesse digitando no whatsapp direto cadastro precisa enviar fotos de documentos então é bom que você já tenha em mãos. Também precisa tirar selfie não precisa enviar comprovante de renda e nem de residência realmente é bem fácil fazer o. No momento que fiz meu cadastro aparecer opção do cartão visa platinum e ele tem alguns benefícios interessante mas tem anuidade que custa aí né 8754 parça. Samba no total de r$ 330 mas tem a possibilidade de 300 sem investir no mínimo r$ 150000 no. Vem ver meu cadastro só aguardando a resposta mas já vi que consultaram meu cpf e a consulta foi feita no serasa vamos ver se vai aprovar um tipo de crédito para mim. Então é isso gente aqui está mais uma opção de conta se você tiver interesse em experimentar essa conta é só baixar o aplicativo do banco safra e fazer o cadastro não esqueça de comentar sua experiência com esse banco aqui no vídeo então é isso gente agradece por ter esse vídeo até o final parece que por gentileza curtam compartilhe com seus amigos e se possível se inscreva em nosso canal. Então fiquem todos com deus e até o próximo vídeo. '"
            ],
            "application/vnd.google.colaboratory.intrinsic+json": {
              "type": "string"
            }
          },
          "metadata": {},
          "execution_count": 27
        }
      ]
    },
    {
      "cell_type": "code",
      "source": [
        ""
      ],
      "metadata": {
        "id": "vGrA7OFSFtDr"
      },
      "execution_count": null,
      "outputs": []
    }
  ]
}